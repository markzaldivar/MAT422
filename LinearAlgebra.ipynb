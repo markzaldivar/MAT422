{
  "nbformat": 4,
  "nbformat_minor": 0,
  "metadata": {
    "colab": {
      "provenance": [],
      "authorship_tag": "ABX9TyNgengKbWlDF1eY2VR+DrWn",
      "include_colab_link": true
    },
    "kernelspec": {
      "name": "python3",
      "display_name": "Python 3"
    },
    "language_info": {
      "name": "python"
    }
  },
  "cells": [
    {
      "cell_type": "markdown",
      "metadata": {
        "id": "view-in-github",
        "colab_type": "text"
      },
      "source": [
        "<a href=\"https://colab.research.google.com/github/markzaldivar/MAT422/blob/main/LinearAlgebra.ipynb\" target=\"_parent\"><img src=\"https://colab.research.google.com/assets/colab-badge.svg\" alt=\"Open In Colab\"/></a>"
      ]
    },
    {
      "cell_type": "code",
      "execution_count": null,
      "metadata": {
        "id": "GbWzJW12Z65v"
      },
      "outputs": [],
      "source": []
    },
    {
      "cell_type": "markdown",
      "source": [
        "# Linear Algebra\n",
        "Linear algebra is a branch of mathematics concerning vector spaces, matrices, and linear transformations. It has various applications in a wide range of fields and many such applications can be facilitated through Python packages.\n"
      ],
      "metadata": {
        "id": "CuGOzu_vsUxX"
      }
    },
    {
      "cell_type": "code",
      "source": [
        "import numpy as np\n",
        "import sympy\n",
        "import scipy.linalg as la\n",
        "import math"
      ],
      "metadata": {
        "id": "5UhgBTVxVX3w"
      },
      "execution_count": null,
      "outputs": []
    },
    {
      "cell_type": "markdown",
      "source": [
        "# 1.2.1 Linear Spaces\n",
        "\n",
        "We begin with some definitions. A linear combination is a vector constructed from a subset by multiplying each vector by a constant and adding the results. A linear subspace is a subset of all linear combinations.\n",
        "\n",
        "Let $ \\mathbf{w}_1, \\dots, \\mathbf{w}_m \\in V $. The span of $ \\{\\mathbf{w}_1, \\dots, \\mathbf{w}_m\\} $, denoted $\\text{span}(\\mathbf{w}_1, \\dots, \\mathbf{w}_m)$, is the set of all linear combinations of the $\\mathbf{w}_j$'s. That is,\n",
        "\n",
        "$$\n",
        "\\text{span}(\\mathbf{w}_1, \\dots, \\mathbf{w}_m) = \\left\\{ \\sum_{j=1}^{m} \\alpha_j \\mathbf{w}_j : \\alpha_1, \\dots, \\alpha_m \\in \\mathbb{R} \\right\\}.\n",
        "$$\n",
        "\n",
        "A list of vectors are linearly independent if they cannot be written as a linear combination of the others.\n",
        "\n",
        "A basis is a set of vectors that generates all elements of the vector space and the vectors in the set are linearly independent.\n",
        "\n",
        "Below we determine if a set of vectors are linearly independent by solving the matrix equation\n",
        "\n",
        "$$ A\\mathbf{x} = 0\\$$\n",
        "\n",
        "If the only solution is the trivial solution, $\\mathbf{x}=0$, we conclude that the vectors that comprise the columns of matrix $\\mathbf{A}$ are linearly independent\n"
      ],
      "metadata": {
        "id": "P0RPBVb5sroi"
      }
    },
    {
      "cell_type": "code",
      "source": [
        "\n",
        "A = np.array([[1,-1,2,0],[1,1,5,0],[3,-1,6,0],[3,-3,9,0]])\n",
        "rref=sympy.Matrix(A).rref()\n",
        "print(A)\n",
        "print(rref)\n",
        "print(\"The vectors are linearly independent\")"
      ],
      "metadata": {
        "colab": {
          "base_uri": "https://localhost:8080/"
        },
        "id": "80hAFGqXBTud",
        "outputId": "8820f93b-9358-4ee9-a702-91444b5cdc6d"
      },
      "execution_count": null,
      "outputs": [
        {
          "output_type": "stream",
          "name": "stdout",
          "text": [
            "[[ 1 -1  2  0]\n",
            " [ 1  1  5  0]\n",
            " [ 3 -1  6  0]\n",
            " [ 3 -3  9  0]]\n",
            "(Matrix([\n",
            "[1, 0, 0, 0],\n",
            "[0, 1, 0, 0],\n",
            "[0, 0, 1, 0],\n",
            "[0, 0, 0, 0]]), (0, 1, 2))\n",
            "The vectors are independent\n"
          ]
        }
      ]
    },
    {
      "cell_type": "markdown",
      "source": [
        "# 1.2.2 Orthogonality\n",
        "A list of vectors $\\{ \\mathbf{u}_1, \\dots, \\mathbf{u}_m \\}$ is *orthonormal* if the $\\mathbf{u}_i$'s are pairwise orthogonal and each has norm 1, that is, for all $i$ and $j \\neq i$,\n",
        "\n",
        "$$\n",
        "\\langle \\mathbf{u}_i, \\mathbf{u}_j \\rangle = 0,\n",
        "$$\n",
        "\n",
        "and\n",
        "\n",
        "$$\n",
        "\\|\\mathbf{u}_i\\| = 1.\n",
        "$$\n",
        "where the inner product is\n",
        "\n",
        "$$\n",
        "\\langle \\mathbf{u}, \\mathbf{v} \\rangle = \\mathbf{u} \\cdot \\mathbf{v} = \\sum_{i=1}^{n} u_i v_i\n",
        "$$\n",
        "\n",
        "and the norm is\n",
        "\n",
        "$$\n",
        "\\| \\mathbf{u} \\| = \\sqrt{\\sum_{i=1}^{n} u_i^2}\n",
        "$$\n",
        "\n",
        "\n",
        "The use of orthonormal bases can greatly simplify porblems in many applications. Below we compute several inner products and norms:\n",
        "\n"
      ],
      "metadata": {
        "id": "EWSr5Qinvz4N"
      }
    },
    {
      "cell_type": "code",
      "source": [
        "\n",
        "\n",
        "u1 = np.array([1,2,3])\n",
        "u2 = np.array([3,4,5])\n",
        "print(\"Inner Product equals\" , u1@u2)\n",
        "print(\"Norm of u1 equals\" , np.linalg.norm(u1))\n",
        "print(\"Norm of u2 equals\" , np.linalg.norm(u2))"
      ],
      "metadata": {
        "colab": {
          "base_uri": "https://localhost:8080/"
        },
        "id": "W_aiXFC-544o",
        "outputId": "b3788f25-a215-45b0-d39c-68e05d901172"
      },
      "execution_count": null,
      "outputs": [
        {
          "output_type": "stream",
          "name": "stdout",
          "text": [
            "Inner Product equals 26\n",
            "Norm of u1 equals 3.7416573867739413\n",
            "Norm of u2 equals 7.0710678118654755\n"
          ]
        }
      ]
    },
    {
      "cell_type": "markdown",
      "source": [
        "Next we verify if a set of vectors is orthonormal"
      ],
      "metadata": {
        "id": "9f598U4d7gXr"
      }
    },
    {
      "cell_type": "code",
      "source": [
        "\n",
        "\n",
        "u1 = np.array([1/math.sqrt(2),-1/math.sqrt(2),0])\n",
        "u2 = np.array([1/math.sqrt(2),1/math.sqrt(2),0])\n",
        "print(u1@u2) #Inner Product\n",
        "print(np.linalg.norm(u1)) #Norm of u1\n",
        "print(np.linalg.norm(u2)) #Norm of u2\n",
        "print(\"The vectors are orthornormal\")\n"
      ],
      "metadata": {
        "colab": {
          "base_uri": "https://localhost:8080/"
        },
        "id": "qWVNbd3w2KdV",
        "outputId": "2597cf87-3c91-4a05-d892-384d69826be0"
      },
      "execution_count": null,
      "outputs": [
        {
          "output_type": "stream",
          "name": "stdout",
          "text": [
            "0.0\n",
            "0.9999999999999999\n",
            "0.9999999999999999\n",
            "The vectors are orthornormal\n"
          ]
        }
      ]
    },
    {
      "cell_type": "markdown",
      "source": [
        "# 1.2.3 Gram-Schmidt Process\n",
        "The Gram-Schmidt Process is an algorithm used to obtain an orthonormal basis from a linearly independent set of vectors. The algorithm takes advantage of orthogonal porjection while ensuring that the vectors span the same space. Below is the algorithm implemented in Python:"
      ],
      "metadata": {
        "id": "4pDZSyQc5Vw4"
      }
    },
    {
      "cell_type": "code",
      "source": [
        "\n",
        "\n",
        "def gram_schmidt(vectors):\n",
        "\n",
        "    orthonormal_basis = []\n",
        "\n",
        "    for v in vectors:\n",
        "        # original vector\n",
        "        orthogonal_v = v\n",
        "\n",
        "        # Subtract projections onto previously computed basis vectors\n",
        "        for basis_vector in orthonormal_basis:\n",
        "            projection = np.dot(v, basis_vector) * basis_vector\n",
        "            orthogonal_v = orthogonal_v - projection\n",
        "\n",
        "        # Normalize orthogonalized vector\n",
        "        norm = np.linalg.norm(orthogonal_v)\n",
        "        orthonormal_v = orthogonal_v / norm\n",
        "\n",
        "\n",
        "        orthonormal_basis.append(orthonormal_v)\n",
        "\n",
        "    return orthonormal_basis\n",
        "\n",
        "\n",
        "vectors = [np.array([2, 1, 0]), np.array([1, 0, 1]), np.array([0, 1, 3])]\n",
        "orthonormal_basis = gram_schmidt(vectors)\n",
        "\n",
        "\n",
        "for i, vec in enumerate(orthonormal_basis):\n",
        "    print(f\"Orthonormal vector {i+1}: {vec}\")\n"
      ],
      "metadata": {
        "colab": {
          "base_uri": "https://localhost:8080/"
        },
        "id": "QpVAE7D3Gn-J",
        "outputId": "0f7e14df-8369-4b9f-acb8-e992993b6dc5"
      },
      "execution_count": null,
      "outputs": [
        {
          "output_type": "stream",
          "name": "stdout",
          "text": [
            "Orthonormal vector 1: [0.89442719 0.4472136  0.        ]\n",
            "Orthonormal vector 2: [ 0.18257419 -0.36514837  0.91287093]\n",
            "Orthonormal vector 3: [-0.40824829  0.81649658  0.40824829]\n"
          ]
        }
      ]
    },
    {
      "cell_type": "markdown",
      "source": [
        "# 1.2.4 Eigenvalues and Eigenvectors\n",
        "For a square matrix $A$, the eigenvalue λ is given by the following equation:\n",
        "$$A\\mathbf{x}=λ\\mathbf{x}$$\n",
        "where $\\mathbf{x}$ is the corresponding non-zero eigenvector.\n",
        "\n",
        "Eigenvalues and eigenvectors appear in various applications. One especially useful application is the diagonalization of matrices, which is demonstrated below:\n"
      ],
      "metadata": {
        "id": "rJbwPOR7J6-6"
      }
    },
    {
      "cell_type": "code",
      "source": [
        "\n",
        "A = sympy.Matrix([[-1, -2,  2],\n",
        "            [4,  3, -4],\n",
        "            [0, -2,  1],\n",
        "            ])\n",
        "\n",
        "print(\"Matrix : {} \".format(A))\n",
        "\n",
        "# Use sympy.diagonalize() method\n",
        "P, D = A.diagonalize()\n",
        "\n",
        "print(\"Diagonal of a matrix : {}\".format(D))"
      ],
      "metadata": {
        "colab": {
          "base_uri": "https://localhost:8080/"
        },
        "id": "zYrnhXoiUVMj",
        "outputId": "8aacc868-de25-4c12-8f7d-17ab809ec364"
      },
      "execution_count": 27,
      "outputs": [
        {
          "output_type": "stream",
          "name": "stdout",
          "text": [
            "Matrix : Matrix([[-1, -2, 2], [4, 3, -4], [0, -2, 1]]) \n",
            "Diagonal of a matrix : Matrix([[-1, 0, 0], [0, 1, 0], [0, 0, 3]])\n"
          ]
        }
      ]
    }
  ]
}