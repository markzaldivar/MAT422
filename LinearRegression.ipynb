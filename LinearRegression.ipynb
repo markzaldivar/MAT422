{
  "nbformat": 4,
  "nbformat_minor": 0,
  "metadata": {
    "colab": {
      "provenance": [],
      "authorship_tag": "ABX9TyNL3cSFmRGczgT0zL0cPhUR",
      "include_colab_link": true
    },
    "kernelspec": {
      "name": "python3",
      "display_name": "Python 3"
    },
    "language_info": {
      "name": "python"
    }
  },
  "cells": [
    {
      "cell_type": "markdown",
      "metadata": {
        "id": "view-in-github",
        "colab_type": "text"
      },
      "source": [
        "<a href=\"https://colab.research.google.com/github/markzaldivar/MAT422/blob/main/LinearRegression.ipynb\" target=\"_parent\"><img src=\"https://colab.research.google.com/assets/colab-badge.svg\" alt=\"Open In Colab\"/></a>"
      ]
    },
    {
      "cell_type": "markdown",
      "source": [
        "# Linear Regression\n"
      ],
      "metadata": {
        "id": "si5aB5TMGUWA"
      }
    },
    {
      "cell_type": "markdown",
      "source": [
        "## 1.3.1 QR Decomposition\n",
        "QR decomposition is a useful technique to solve the linear least squares problem. We begin by using the Gram-Schmidt process to form an orthonormal basis from a linearly independent set of $\\text{span}(a_1, \\dots, a_m)$. Let $A$ and $Q$ be  $n×m$ matrices such that\n",
        "\n",
        "\n",
        "$$\n",
        "A = \\begin{pmatrix} a_1 & \\dots & a_m \\end{pmatrix}\n",
        "$$\n",
        "\n",
        "and\n",
        "\n",
        "$$\n",
        "Q = \\begin{pmatrix} q_1 & \\dots & q_m \\end{pmatrix}\n",
        "$$\n",
        "\n",
        "We can then write\n",
        "$$A=QR$$\n",
        "\n",
        "Where $R$ is an $m×m$ upper traingular matrix. Column $i$ of this matrix contains the coefficients of the linear combination of $q_j$'s that produces $a_i$.\n",
        "\n",
        "Below, we use a built-in Python function to find the QR decomposition of a matrix.\n",
        "\n"
      ],
      "metadata": {
        "id": "rsP3uciRGiWB"
      }
    },
    {
      "cell_type": "code",
      "source": [
        "import numpy as np\n",
        "\n",
        "A = np.array([[5,3],[2,1]])\n",
        "q,r = np.linalg.qr(A)\n",
        "\n",
        "print('A:\\n', A)\n",
        "print('Q:\\n', q)\n",
        "print('R: \\n', r)\n",
        "\n",
        "\n"
      ],
      "metadata": {
        "colab": {
          "base_uri": "https://localhost:8080/"
        },
        "id": "7eDkAUi_Vm1Z",
        "outputId": "22c5a1c5-545f-47ee-d64c-ccc16fc19b53"
      },
      "execution_count": null,
      "outputs": [
        {
          "output_type": "stream",
          "name": "stdout",
          "text": [
            "A:\n",
            " [[5 3]\n",
            " [2 1]]\n",
            "Q:\n",
            " [[-0.92847669 -0.37139068]\n",
            " [-0.37139068  0.92847669]]\n",
            "R: \n",
            " [[-5.38516481 -3.15682075]\n",
            " [ 0.         -0.18569534]]\n"
          ]
        }
      ]
    },
    {
      "cell_type": "markdown",
      "source": [
        "## 1.3.2 Least-Squares Problem\n",
        "Consider an overdetermined system\n",
        "$$Ax = b$$\n",
        "Because such systems are often inconsistent, we aim to approximate a solution. We accomplish this by finding the vector $x$ that minimizes the quantity\n",
        "$$\n",
        "\\|Ax - b\\|\n",
        "$$\n",
        "This is called the least-squares problem, and its solution is given by the normal equation:\n",
        "$$\n",
        "A^T A x = A^T b\n",
        "$$\n",
        "Below, we implement a solution to the least-squares problem in Python utilizing the normal equation."
      ],
      "metadata": {
        "id": "9xGFQnq5WjRa"
      }
    },
    {
      "cell_type": "code",
      "source": [
        "\n",
        "\n",
        "def least_squares(A, b):\n",
        "\n",
        "    # Compute A^T A\n",
        "    AtA = np.dot(A.T, A)\n",
        "\n",
        "    # Compute A^T b\n",
        "    Atb = np.dot(A.T, b)\n",
        "\n",
        "    # Solve the normal equation (A^T A) x = A^T b\n",
        "    x = np.linalg.solve(AtA, Atb)\n",
        "\n",
        "    return x\n",
        "\n",
        "\n",
        "A = np.array([[2, 1], [1, 3], [3, 1]])\n",
        "b = np.array([5, 6, 7])\n",
        "\n",
        "x = least_squares(A, b)\n",
        "print('A:\\n',A)\n",
        "print('b:\\n',b)\n",
        "print(\"\\nLeast squares solution:\", x)\n"
      ],
      "metadata": {
        "colab": {
          "base_uri": "https://localhost:8080/"
        },
        "id": "3gqkU9Gxksgc",
        "outputId": "ddb926e1-858f-4dbe-894f-b4fd3461f899"
      },
      "execution_count": null,
      "outputs": [
        {
          "output_type": "stream",
          "name": "stdout",
          "text": [
            "A:\n",
            " [[2 1]\n",
            " [1 3]\n",
            " [3 1]]\n",
            "b:\n",
            " [5 6 7]\n",
            "\n",
            "Least squares solution: [1.85555556 1.37777778]\n"
          ]
        }
      ]
    },
    {
      "cell_type": "markdown",
      "source": [
        "## 1.3.3 Linear Regression\n",
        "Given input data points $\\left\\{\\left(\\mathbf{x}_{i}, y_{i}\\right)\\right\\}_{i=1}^{n}$ with each $\\mathbf{x}_{i}=\\left(x_{i 1}, \\dots, x_{i d}\\right)^{T}$, we seek an affine function to fit the data. The common approach involves finding coefficients $\\beta_{j}$ 's that minimize the criterion\n",
        "$$\n",
        "\\sum_{i=1}^{n}\\left(y_{i}-\\hat{y}_{i}\\right)^{2}\n",
        "$$\n",
        "where\n",
        "$$\n",
        "\\hat{y}_{i}=\\beta_{0}+\\sum_{j=1}^{d} \\beta_{j} x_{i j}\n",
        "$$\n",
        "can be viewed as the predicted values of the linear model with coefficients $\\beta_{j} .$ The minimization problem can be formulated in matrix form. Let\n",
        "$$\n",
        "\\mathbf{y}=\\left(\\begin{array}{c}\n",
        "y_{1} \\\\\n",
        "y_{2} \\\\\n",
        "\\vdots \\\\\n",
        "y_{n}\n",
        "\\end{array}\\right), \\quad A=\\left(\\begin{array}{cc}\n",
        "1 & \\mathbf{x}_{1}^{T} \\\\\n",
        "1 & \\mathbf{x}_{2}^{T} \\\\\n",
        "\\vdots & \\vdots \\\\\n",
        "1 & \\mathbf{x}_{n}^{T}\n",
        "\\end{array}\\right) \\quad \\text { and } \\quad \\beta=\\left(\\begin{array}{c}\n",
        "\\beta_{0} \\\\\n",
        "\\beta_{1} \\\\\n",
        "\\vdots \\\\\n",
        "\\beta_{d}\n",
        "\\end{array}\\right)\n",
        "$$\n",
        "Then the problem is transformed to\n",
        "$$\n",
        "\\min _{\\beta}\\|\\mathbf{y}-A \\beta\\|^{2}\n",
        "$$\n",
        "This is simply the least-squares problem discussed above.\n",
        "\n",
        "In addition to the manual solution using the normal equation seen in the previous section, we can also use the higher-level API for linear regression provided by the scikit-learn library in Python. This is implemented below to solve the least-squares problem."
      ],
      "metadata": {
        "id": "5QxHCMVJlLeX"
      }
    },
    {
      "cell_type": "code",
      "source": [
        "from sklearn.linear_model import LinearRegression\n",
        "from matplotlib import pyplot as plt\n",
        "\n",
        "\n",
        "X = np.array([[1], [2], [3], [4], [5]])\n",
        "y = np.array([1.5, 3.6, 5.8, 8.2, 10.4])\n",
        "\n",
        "\n",
        "model = LinearRegression()\n",
        "\n",
        "\n",
        "model.fit(X, y)\n",
        "\n",
        "\n",
        "intercept = model.intercept_\n",
        "slope = model.coef_\n",
        "\n",
        "model_line = X*slope + intercept\n",
        "\n",
        "print(\"Intercept:\", intercept)\n",
        "print(\"Slope:\", slope)\n",
        "\n",
        "\n",
        "X_new = np.array([[6], [7], [8]])\n",
        "y_pred = model.predict(X_new)\n",
        "print(\"Predictions:\", y_pred)\n",
        "\n"
      ],
      "metadata": {
        "colab": {
          "base_uri": "https://localhost:8080/"
        },
        "id": "pX2fLdNHxCl6",
        "outputId": "8d340c15-df1b-4297-c654-8e207a25b85a"
      },
      "execution_count": null,
      "outputs": [
        {
          "output_type": "stream",
          "name": "stdout",
          "text": [
            "Intercept: -0.8200000000000003\n",
            "Slope: [2.24]\n",
            "Predictions: [12.62 14.86 17.1 ]\n"
          ]
        }
      ]
    },
    {
      "cell_type": "markdown",
      "source": [
        "Using the model, we can make accurate predictions on the data. Below is the model plotted against the raw data."
      ],
      "metadata": {
        "id": "Sd0bgmZEzA3p"
      }
    },
    {
      "cell_type": "code",
      "source": [
        "plt.figure(figsize=(12, 6))\n",
        "plt.plot(X, model_line, 'r')     # regression line\n",
        "plt.plot(X, y, 'b.')   # scatter plot showing actual data\n",
        "\n",
        "plt.show()\n"
      ],
      "metadata": {
        "colab": {
          "base_uri": "https://localhost:8080/",
          "height": 522
        },
        "id": "9bI1zelIxnCu",
        "outputId": "f92030b8-a802-45e1-df17-0129f3c0aac4"
      },
      "execution_count": null,
      "outputs": [
        {
          "output_type": "display_data",
          "data": {
            "text/plain": [
              "<Figure size 1200x600 with 1 Axes>"
            ],
            "image/png": "[encoded data removed]"
          },
          "metadata": {}
        }
      ]
    }
  ]
}